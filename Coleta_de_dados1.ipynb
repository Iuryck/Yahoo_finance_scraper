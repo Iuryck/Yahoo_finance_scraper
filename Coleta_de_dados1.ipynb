{
 "cells": [
  {
   "cell_type": "markdown",
   "metadata": {},
   "source": [
    "# BOVESPA\n",
    "**Pegando dados da B3 e todas as ações dentro**"
   ]
  },
  {
   "cell_type": "code",
   "execution_count": 30,
   "metadata": {},
   "outputs": [],
   "source": [
    "import pandas as pd\n",
    "import matplotlib.pyplot as plt\n",
    "import pandas_datareader.data as web \n",
    "import os\n",
    "import datetime as dt \n",
    "from sklearn import preprocessing, svm, model_selection\n",
    "from sklearn.linear_model import LinearRegression\n",
    "import numpy as np\n"
   ]
  },
  {
   "cell_type": "markdown",
   "metadata": {},
   "source": [
    "**Nós temos um site com uma lista com todas as ações na B3, mas a lista está dividida em páginas. Então temos que iterar por cada página e pegar um arranjo de dados com as ações. Fazemos isso por Scrape, iterando pelas páginas e usando** *pd.read_html*"
   ]
  },
  {
   "cell_type": "code",
   "execution_count": 2,
   "metadata": {},
   "outputs": [
    {
     "name": "stdout",
     "output_type": "stream",
     "text": [
      "  Unnamed: 0 CÃ³digo  Nome de PregÃ£o  \\\n",
      "0        NaN   ITUB4  ITAUUNIBANCO PN   \n",
      "1        NaN   BBAS3        BRASIL ON   \n",
      "2        NaN   PETR4     PETROBRAS PN   \n",
      "3        NaN   BBDC4      BRADESCO PN   \n",
      "4        NaN   B3SA3               B3   \n",
      "\n",
      "                                 Atividade Principal  \n",
      "0  A Sociedade Tem por Objeto A Atividade BancÃ¡r...  \n",
      "1                                    Banco MÃºltiplo  \n",
      "2                          PetrÃ³leo. GÃ¡s e Energia  \n",
      "3  PrÃ¡tica de OperaÃ§Ãµes BancÃ¡rias em Geral. I...  \n",
      "4  Principais Atividades: Administrar Mercados Or...  \n",
      "                             0\n",
      "0  1234 Registros 1 - 20 de 73\n",
      "  Unnamed: 0 CÃ³digo  Nome de PregÃ£o  \\\n",
      "0        NaN   IRBR3  IRBBRASIL RE ON   \n",
      "1        NaN   SUZB3  SUZANO PAPEL ON   \n",
      "2        NaN   YDUQ3       YDUQS PART   \n",
      "3        NaN   GGBR4        GERDAU PN   \n",
      "4        NaN   RAIL3     RUMO S.A. ON   \n",
      "\n",
      "                                 Atividade Principal  \n",
      "0            OperaÃ§Ãµes de Resseguro e RetrocessÃ£o  \n",
      "1         IndÃºstria e ComÃ©rcio de Papel e Celulose  \n",
      "2  Desenvolve Principalmente nas Ãreas de EducaÃ...  \n",
      "3                   ParticipaÃ§Ã£o e AdministraÃ§Ã£o  \n",
      "4  Prestar ServiÃ§os de Transporte de Cargas Atra...  \n",
      "                              0\n",
      "0  1234 Registros 21 - 40 de 73\n",
      "  Unnamed: 0 CÃ³digo  Nome de PregÃ£o  \\\n",
      "0        NaN   HAPV3       HAPVIDA ON   \n",
      "1        NaN   USIM5     USIMINAS PNA   \n",
      "2        NaN   BBSE3  BBSEGURIDADE ON   \n",
      "3        NaN   COGN3         COGNA ON   \n",
      "4        NaN   BRML3  BR MALLS PAR ON   \n",
      "\n",
      "                                 Atividade Principal  \n",
      "0  ParticipaÃ§Ã£o. como SÃ³cia ou Acionista. em O...  \n",
      "1  Venda de Produtos SiderÃºrgicos. como Chapas G...  \n",
      "2  ParticipaÃ§Ã£o no Capital Social de Outras Soc...  \n",
      "3  A Companhia Tem por Objeto A ParticipaÃ§Ã£o. c...  \n",
      "4                                            Holding  \n",
      "                              0\n",
      "0  1234 Registros 41 - 60 de 73\n",
      "  Unnamed: 0 CÃ³digo   Nome de PregÃ£o  \\\n",
      "0        NaN   HGTX3     CIA HERING ON   \n",
      "1        NaN   BBDC3       BRADESCO ON   \n",
      "2        NaN  SANB11  SANTANDER BR UNT   \n",
      "3        NaN  KLBN11    KLABIN S/A UNT   \n",
      "4        NaN   VIVT4   TELEF BRASIL PN   \n",
      "\n",
      "                                 Atividade Principal  \n",
      "0  ConfecÃ§Ã£o de Artigos do VestuÃ¡rio e AcessÃ³...  \n",
      "1  PrÃ¡tica de OperaÃ§Ãµes BancÃ¡rias em Geral. I...  \n",
      "2             Banco MÃºltiplo com Carteira Comercial  \n",
      "3  Empresa Brasileira de Base Florestal. Produtor...  \n",
      "4  PrestaÃ§Ã£o de ServiÃ§os PÃºblicos de Telecomu...  \n",
      "                              0\n",
      "0  1234 Registros 61 - 73 de 73\n"
     ]
    }
   ],
   "source": [
    "# Lista onde guardaremos a leitura das páginas\n",
    "dfs = list()\n",
    "\n",
    "# Iterando e lendo cada página com ações da B3, adicinando em uma lista\n",
    "for page in range (1,5):\n",
    "    dfs += pd.read_html(f'https://www.guiainvest.com.br/lista-acoes/default.aspx?listaacaopage={page}', index_col = False )\n",
    "\n",
    "# Visualizando as tabelas que pegamos\n",
    "for df in dfs:\n",
    "    print(df.head())"
   ]
  },
  {
   "cell_type": "markdown",
   "metadata": {},
   "source": [
    "**Parece que temos algumas tabelas mas só uma nos interessa, a que tem as ações. Então vamos iterar pelas páginas denovo e colocar o que queremos em um DataFrame.**"
   ]
  },
  {
   "cell_type": "code",
   "execution_count": 3,
   "metadata": {},
   "outputs": [
    {
     "data": {
      "text/html": [
       "<div>\n",
       "<style scoped>\n",
       "    .dataframe tbody tr th:only-of-type {\n",
       "        vertical-align: middle;\n",
       "    }\n",
       "\n",
       "    .dataframe tbody tr th {\n",
       "        vertical-align: top;\n",
       "    }\n",
       "\n",
       "    .dataframe thead th {\n",
       "        text-align: right;\n",
       "    }\n",
       "</style>\n",
       "<table border=\"1\" class=\"dataframe\">\n",
       "  <thead>\n",
       "    <tr style=\"text-align: right;\">\n",
       "      <th></th>\n",
       "      <th>Unnamed: 0</th>\n",
       "      <th>CÃ³digo</th>\n",
       "      <th>Nome de PregÃ£o</th>\n",
       "      <th>Atividade Principal</th>\n",
       "    </tr>\n",
       "  </thead>\n",
       "  <tbody>\n",
       "    <tr>\n",
       "      <th>0</th>\n",
       "      <td>NaN</td>\n",
       "      <td>ITUB4</td>\n",
       "      <td>ITAUUNIBANCO PN</td>\n",
       "      <td>A Sociedade Tem por Objeto A Atividade BancÃ¡r...</td>\n",
       "    </tr>\n",
       "    <tr>\n",
       "      <th>1</th>\n",
       "      <td>NaN</td>\n",
       "      <td>BBAS3</td>\n",
       "      <td>BRASIL ON</td>\n",
       "      <td>Banco MÃºltiplo</td>\n",
       "    </tr>\n",
       "    <tr>\n",
       "      <th>2</th>\n",
       "      <td>NaN</td>\n",
       "      <td>PETR4</td>\n",
       "      <td>PETROBRAS PN</td>\n",
       "      <td>PetrÃ³leo. GÃ¡s e Energia</td>\n",
       "    </tr>\n",
       "    <tr>\n",
       "      <th>3</th>\n",
       "      <td>NaN</td>\n",
       "      <td>BBDC4</td>\n",
       "      <td>BRADESCO PN</td>\n",
       "      <td>PrÃ¡tica de OperaÃ§Ãµes BancÃ¡rias em Geral. I...</td>\n",
       "    </tr>\n",
       "    <tr>\n",
       "      <th>4</th>\n",
       "      <td>NaN</td>\n",
       "      <td>B3SA3</td>\n",
       "      <td>B3</td>\n",
       "      <td>Principais Atividades: Administrar Mercados Or...</td>\n",
       "    </tr>\n",
       "  </tbody>\n",
       "</table>\n",
       "</div>"
      ],
      "text/plain": [
       "  Unnamed: 0 CÃ³digo  Nome de PregÃ£o  \\\n",
       "0        NaN   ITUB4  ITAUUNIBANCO PN   \n",
       "1        NaN   BBAS3        BRASIL ON   \n",
       "2        NaN   PETR4     PETROBRAS PN   \n",
       "3        NaN   BBDC4      BRADESCO PN   \n",
       "4        NaN   B3SA3               B3   \n",
       "\n",
       "                                 Atividade Principal  \n",
       "0  A Sociedade Tem por Objeto A Atividade BancÃ¡r...  \n",
       "1                                    Banco MÃºltiplo  \n",
       "2                          PetrÃ³leo. GÃ¡s e Energia  \n",
       "3  PrÃ¡tica de OperaÃ§Ãµes BancÃ¡rias em Geral. I...  \n",
       "4  Principais Atividades: Administrar Mercados Or...  "
      ]
     },
     "execution_count": 3,
     "metadata": {},
     "output_type": "execute_result"
    }
   ],
   "source": [
    "# Inicializando dataframe\n",
    "df = pd.DataFrame()\n",
    "\n",
    "# Iterando e lendo sites com ações da B3\n",
    "for page in range (1,5):\n",
    "    \n",
    "    # Lendo\n",
    "    dfs = pd.read_html(f'https://www.guiainvest.com.br/lista-acoes/default.aspx?listaacaopage={page}', index_col = False )\n",
    "    \n",
    "    # Se o dataframe estiver vazio, passa o arranjo que foi pego no site\n",
    "    if df.empty:\n",
    "        df = dfs[0]\n",
    "    \n",
    "    # Caso contrário adiciona o que pegamos do site embaixo\n",
    "    else:\n",
    "        df = df.append(dfs[0])\n",
    "    \n",
    "df.head()"
   ]
  },
  {
   "cell_type": "code",
   "execution_count": 4,
   "metadata": {},
   "outputs": [
    {
     "data": {
      "text/plain": [
       "array(['ITUB4', 'BBAS3', 'PETR4', 'BBDC4', 'B3SA3', 'NTCO3', 'MGLU3',\n",
       "       'VALE3', 'JBSS3', 'ITSA4', 'BRDT3', 'VVAR3', 'LREN3', 'EQTL3',\n",
       "       'SULA11', 'ELET3', 'ABEV3', 'GNDI3', 'RENT3', 'BPAC11',\n",
       "       '1234 Registros 1 - 20 de 73', nan, 'IRBR3', 'SUZB3', 'YDUQ3',\n",
       "       'GGBR4', 'RAIL3', 'BRFS3', 'QUAL3', 'CYRE3', 'GOLL4', 'UGPA3',\n",
       "       'MRFG3', 'LAME4', 'TOTS3', 'MULT3', 'BRKM5', 'CSAN3', 'CMIG4',\n",
       "       'SBSP3', 'CVCB3', 'PETR3', '1234 Registros 21 - 40 de 73', 'HAPV3',\n",
       "       'USIM5', 'BBSE3', 'COGN3', 'BRML3', 'CSNA3', 'WEGE3', 'CCRO3',\n",
       "       'ELET6', 'CIEL3', 'TIMP3', 'AZUL4', 'RADL3', 'PCAR4', 'GOAU4',\n",
       "       'BTOW3', 'MRVE3', 'ENBR3', 'IGTA3', 'HYPE3',\n",
       "       '1234 Registros 41 - 60 de 73', 'HGTX3', 'BBDC3', 'SANB11',\n",
       "       'KLBN11', 'VIVT4', 'FLRY3', 'CRFB3', 'BRAP4', 'EGIE3', 'ECOR3',\n",
       "       'TAEE11', 'EMBR3', 'SMLS3', '1234 Registros 61 - 73 de 73'],\n",
       "      dtype=object)"
      ]
     },
     "execution_count": 4,
     "metadata": {},
     "output_type": "execute_result"
    }
   ],
   "source": [
    "df['CÃ³digo'].unique()"
   ]
  },
  {
   "cell_type": "markdown",
   "metadata": {},
   "source": [
    "**Ajeitando colunas**"
   ]
  },
  {
   "cell_type": "code",
   "execution_count": 5,
   "metadata": {},
   "outputs": [
    {
     "data": {
      "text/plain": [
       "Index(['Unnamed: 0', 'CÃ³digo', 'Nome de PregÃ£o', 'Atividade Principal'], dtype='object')"
      ]
     },
     "execution_count": 5,
     "metadata": {},
     "output_type": "execute_result"
    }
   ],
   "source": [
    "df.columns"
   ]
  },
  {
   "cell_type": "code",
   "execution_count": 6,
   "metadata": {},
   "outputs": [
    {
     "data": {
      "text/plain": [
       "array([nan, '1234 Registros 1 - 20 de 73', '1234 Registros 21 - 40 de 73',\n",
       "       '1234 Registros 41 - 60 de 73', '1234 Registros 61 - 73 de 73'],\n",
       "      dtype=object)"
      ]
     },
     "execution_count": 6,
     "metadata": {},
     "output_type": "execute_result"
    }
   ],
   "source": [
    "# Averiguando o que temos nessa coluna estranha para avaliar se podemos removê-la\n",
    "df['Unnamed: 0'].unique()\n"
   ]
  },
  {
   "cell_type": "code",
   "execution_count": 7,
   "metadata": {},
   "outputs": [
    {
     "data": {
      "text/html": [
       "<div>\n",
       "<style scoped>\n",
       "    .dataframe tbody tr th:only-of-type {\n",
       "        vertical-align: middle;\n",
       "    }\n",
       "\n",
       "    .dataframe tbody tr th {\n",
       "        vertical-align: top;\n",
       "    }\n",
       "\n",
       "    .dataframe thead th {\n",
       "        text-align: right;\n",
       "    }\n",
       "</style>\n",
       "<table border=\"1\" class=\"dataframe\">\n",
       "  <thead>\n",
       "    <tr style=\"text-align: right;\">\n",
       "      <th></th>\n",
       "      <th>ticker</th>\n",
       "      <th>Company</th>\n",
       "    </tr>\n",
       "  </thead>\n",
       "  <tbody>\n",
       "    <tr>\n",
       "      <th>0</th>\n",
       "      <td>ITUB4</td>\n",
       "      <td>ITAUUNIBANCO PN</td>\n",
       "    </tr>\n",
       "    <tr>\n",
       "      <th>1</th>\n",
       "      <td>BBAS3</td>\n",
       "      <td>BRASIL ON</td>\n",
       "    </tr>\n",
       "    <tr>\n",
       "      <th>2</th>\n",
       "      <td>PETR4</td>\n",
       "      <td>PETROBRAS PN</td>\n",
       "    </tr>\n",
       "    <tr>\n",
       "      <th>3</th>\n",
       "      <td>BBDC4</td>\n",
       "      <td>BRADESCO PN</td>\n",
       "    </tr>\n",
       "    <tr>\n",
       "      <th>4</th>\n",
       "      <td>B3SA3</td>\n",
       "      <td>B3</td>\n",
       "    </tr>\n",
       "  </tbody>\n",
       "</table>\n",
       "</div>"
      ],
      "text/plain": [
       "  ticker          Company\n",
       "0  ITUB4  ITAUUNIBANCO PN\n",
       "1  BBAS3        BRASIL ON\n",
       "2  PETR4     PETROBRAS PN\n",
       "3  BBDC4      BRADESCO PN\n",
       "4  B3SA3               B3"
      ]
     },
     "execution_count": 7,
     "metadata": {},
     "output_type": "execute_result"
    }
   ],
   "source": [
    "# Tirando colunas que não precisamos\n",
    "df.drop(['Unnamed: 0','Atividade Principal'], inplace=True, axis=1)\n",
    "\n",
    "# Renomeando as colunas\n",
    "df.rename(columns={'CÃ³digo':'ticker','Nome de PregÃ£o':'Company'}, inplace=True)\n",
    "df.head()"
   ]
  },
  {
   "cell_type": "code",
   "execution_count": 8,
   "metadata": {},
   "outputs": [
    {
     "data": {
      "text/plain": [
       "['ITUB4',\n",
       " 'BBAS3',\n",
       " 'PETR4',\n",
       " 'BBDC4',\n",
       " 'B3SA3',\n",
       " 'NTCO3',\n",
       " 'MGLU3',\n",
       " 'VALE3',\n",
       " 'JBSS3',\n",
       " 'ITSA4',\n",
       " 'BRDT3',\n",
       " 'VVAR3',\n",
       " 'LREN3',\n",
       " 'EQTL3',\n",
       " 'SULA11',\n",
       " 'ELET3',\n",
       " 'ABEV3',\n",
       " 'GNDI3',\n",
       " 'RENT3',\n",
       " 'BPAC11',\n",
       " '1234 Registros 1 - 20 de 73',\n",
       " nan,\n",
       " 'IRBR3',\n",
       " 'SUZB3',\n",
       " 'YDUQ3',\n",
       " 'GGBR4',\n",
       " 'RAIL3',\n",
       " 'BRFS3',\n",
       " 'QUAL3',\n",
       " 'CYRE3',\n",
       " 'GOLL4',\n",
       " 'UGPA3',\n",
       " 'MRFG3',\n",
       " 'LAME4',\n",
       " 'TOTS3',\n",
       " 'MULT3',\n",
       " 'BRKM5',\n",
       " 'CSAN3',\n",
       " 'CMIG4',\n",
       " 'SBSP3',\n",
       " 'CVCB3',\n",
       " 'PETR3',\n",
       " '1234 Registros 21 - 40 de 73',\n",
       " 'HAPV3',\n",
       " 'USIM5',\n",
       " 'BBSE3',\n",
       " 'COGN3',\n",
       " 'BRML3',\n",
       " 'CSNA3',\n",
       " 'WEGE3',\n",
       " 'CCRO3',\n",
       " 'ELET6',\n",
       " 'CIEL3',\n",
       " 'TIMP3',\n",
       " 'AZUL4',\n",
       " 'RADL3',\n",
       " 'PCAR4',\n",
       " 'GOAU4',\n",
       " 'BTOW3',\n",
       " 'MRVE3',\n",
       " 'ENBR3',\n",
       " 'IGTA3',\n",
       " 'HYPE3',\n",
       " '1234 Registros 41 - 60 de 73',\n",
       " 'HGTX3',\n",
       " 'BBDC3',\n",
       " 'SANB11',\n",
       " 'KLBN11',\n",
       " 'VIVT4',\n",
       " 'FLRY3',\n",
       " 'CRFB3',\n",
       " 'BRAP4',\n",
       " 'EGIE3',\n",
       " 'ECOR3',\n",
       " 'TAEE11',\n",
       " 'EMBR3',\n",
       " 'SMLS3',\n",
       " '1234 Registros 61 - 73 de 73']"
      ]
     },
     "execution_count": 8,
     "metadata": {},
     "output_type": "execute_result"
    }
   ],
   "source": [
    "# Vendo a lista de ações que temos, precisamos retirar os dados que não são ações.\n",
    "list(df['ticker'].unique())"
   ]
  },
  {
   "cell_type": "markdown",
   "metadata": {},
   "source": [
    "**Precisamos tirar as fileiras que não possuem código de ações**"
   ]
  },
  {
   "cell_type": "code",
   "execution_count": 9,
   "metadata": {},
   "outputs": [
    {
     "data": {
      "text/html": [
       "<div>\n",
       "<style scoped>\n",
       "    .dataframe tbody tr th:only-of-type {\n",
       "        vertical-align: middle;\n",
       "    }\n",
       "\n",
       "    .dataframe tbody tr th {\n",
       "        vertical-align: top;\n",
       "    }\n",
       "\n",
       "    .dataframe thead th {\n",
       "        text-align: right;\n",
       "    }\n",
       "</style>\n",
       "<table border=\"1\" class=\"dataframe\">\n",
       "  <thead>\n",
       "    <tr style=\"text-align: right;\">\n",
       "      <th></th>\n",
       "      <th>Company</th>\n",
       "    </tr>\n",
       "    <tr>\n",
       "      <th>ticker</th>\n",
       "      <th></th>\n",
       "    </tr>\n",
       "  </thead>\n",
       "  <tbody>\n",
       "    <tr>\n",
       "      <th>ITUB4</th>\n",
       "      <td>ITAUUNIBANCO PN</td>\n",
       "    </tr>\n",
       "    <tr>\n",
       "      <th>BBAS3</th>\n",
       "      <td>BRASIL ON</td>\n",
       "    </tr>\n",
       "    <tr>\n",
       "      <th>PETR4</th>\n",
       "      <td>PETROBRAS PN</td>\n",
       "    </tr>\n",
       "    <tr>\n",
       "      <th>BBDC4</th>\n",
       "      <td>BRADESCO PN</td>\n",
       "    </tr>\n",
       "    <tr>\n",
       "      <th>B3SA3</th>\n",
       "      <td>B3</td>\n",
       "    </tr>\n",
       "  </tbody>\n",
       "</table>\n",
       "</div>"
      ],
      "text/plain": [
       "                Company\n",
       "ticker                 \n",
       "ITUB4   ITAUUNIBANCO PN\n",
       "BBAS3         BRASIL ON\n",
       "PETR4      PETROBRAS PN\n",
       "BBDC4       BRADESCO PN\n",
       "B3SA3                B3"
      ]
     },
     "execution_count": 9,
     "metadata": {},
     "output_type": "execute_result"
    }
   ],
   "source": [
    "# Colocando os códigos como índice para podermos localizar as fileiras com dados desnecessários.\n",
    "df.set_index('ticker', inplace=True)\n",
    "df.head()"
   ]
  },
  {
   "cell_type": "code",
   "execution_count": 10,
   "metadata": {},
   "outputs": [
    {
     "name": "stdout",
     "output_type": "stream",
     "text": [
      "                                                   Company\n",
      "ticker                                                    \n",
      "1234 Registros 1 - 20 de 73    1234 Registros 1 - 20 de 73\n",
      "1234 Registros 21 - 40 de 73  1234 Registros 21 - 40 de 73\n",
      "1234 Registros 41 - 60 de 73  1234 Registros 41 - 60 de 73\n",
      "1234 Registros 61 - 73 de 73  1234 Registros 61 - 73 de 73\n"
     ]
    }
   ],
   "source": [
    "# Copiando o arranjo de dados e passando para outro DataFrame\n",
    "B3_tickers = df.copy()\n",
    "\n",
    "# Vendo as fileiras\n",
    "rows = B3_tickers.loc[['1234 Registros 1 - 20 de 73',\n",
    "                '1234 Registros 21 - 40 de 73',\n",
    "                '1234 Registros 41 - 60 de 73',\n",
    "                '1234 Registros 61 - 73 de 73',]]\n",
    "\n",
    "print(rows)"
   ]
  },
  {
   "cell_type": "code",
   "execution_count": 11,
   "metadata": {},
   "outputs": [
    {
     "data": {
      "text/plain": [
       "['ITUB4',\n",
       " 'BBAS3',\n",
       " 'PETR4',\n",
       " 'BBDC4',\n",
       " 'B3SA3',\n",
       " 'NTCO3',\n",
       " 'MGLU3',\n",
       " 'VALE3',\n",
       " 'JBSS3',\n",
       " 'ITSA4',\n",
       " 'BRDT3',\n",
       " 'VVAR3',\n",
       " 'LREN3',\n",
       " 'EQTL3',\n",
       " 'SULA11',\n",
       " 'ELET3',\n",
       " 'ABEV3',\n",
       " 'GNDI3',\n",
       " 'RENT3',\n",
       " 'BPAC11',\n",
       " nan,\n",
       " 'IRBR3',\n",
       " 'SUZB3',\n",
       " 'YDUQ3',\n",
       " 'GGBR4',\n",
       " 'RAIL3',\n",
       " 'BRFS3',\n",
       " 'QUAL3',\n",
       " 'CYRE3',\n",
       " 'GOLL4',\n",
       " 'UGPA3',\n",
       " 'MRFG3',\n",
       " 'LAME4',\n",
       " 'TOTS3',\n",
       " 'MULT3',\n",
       " 'BRKM5',\n",
       " 'CSAN3',\n",
       " 'CMIG4',\n",
       " 'SBSP3',\n",
       " 'CVCB3',\n",
       " 'PETR3',\n",
       " 'HAPV3',\n",
       " 'USIM5',\n",
       " 'BBSE3',\n",
       " 'COGN3',\n",
       " 'BRML3',\n",
       " 'CSNA3',\n",
       " 'WEGE3',\n",
       " 'CCRO3',\n",
       " 'ELET6',\n",
       " 'CIEL3',\n",
       " 'TIMP3',\n",
       " 'AZUL4',\n",
       " 'RADL3',\n",
       " 'PCAR4',\n",
       " 'GOAU4',\n",
       " 'BTOW3',\n",
       " 'MRVE3',\n",
       " 'ENBR3',\n",
       " 'IGTA3',\n",
       " 'HYPE3',\n",
       " 'HGTX3',\n",
       " 'BBDC3',\n",
       " 'SANB11',\n",
       " 'KLBN11',\n",
       " 'VIVT4',\n",
       " 'FLRY3',\n",
       " 'CRFB3',\n",
       " 'BRAP4',\n",
       " 'EGIE3',\n",
       " 'ECOR3',\n",
       " 'TAEE11',\n",
       " 'EMBR3',\n",
       " 'SMLS3']"
      ]
     },
     "execution_count": 11,
     "metadata": {},
     "output_type": "execute_result"
    }
   ],
   "source": [
    "# Tirando filieras\n",
    "B3_tickers.drop(['1234 Registros 1 - 20 de 73',\n",
    "                '1234 Registros 21 - 40 de 73',\n",
    "                '1234 Registros 41 - 60 de 73',\n",
    "                '1234 Registros 61 - 73 de 73',],\n",
    "                inplace=True)\n",
    "list(B3_tickers.index.unique())"
   ]
  },
  {
   "cell_type": "code",
   "execution_count": 12,
   "metadata": {},
   "outputs": [
    {
     "data": {
      "text/plain": [
       "Index(['ITUB4', 'BBAS3', 'PETR4', 'BBDC4', 'B3SA3', 'NTCO3', 'MGLU3', 'VALE3',\n",
       "       'JBSS3', 'ITSA4', 'BRDT3', 'VVAR3', 'LREN3', 'EQTL3', 'SULA11', 'ELET3',\n",
       "       'ABEV3', 'GNDI3', 'RENT3', 'BPAC11', 'IRBR3', 'SUZB3', 'YDUQ3', 'GGBR4',\n",
       "       'RAIL3', 'BRFS3', 'QUAL3', 'CYRE3', 'GOLL4', 'UGPA3', 'MRFG3', 'LAME4',\n",
       "       'TOTS3', 'MULT3', 'BRKM5', 'CSAN3', 'CMIG4', 'SBSP3', 'CVCB3', 'PETR3',\n",
       "       'HAPV3', 'USIM5', 'BBSE3', 'COGN3', 'BRML3', 'CSNA3', 'WEGE3', 'CCRO3',\n",
       "       'ELET6', 'CIEL3', 'TIMP3', 'AZUL4', 'RADL3', 'PCAR4', 'GOAU4', 'BTOW3',\n",
       "       'MRVE3', 'ENBR3', 'IGTA3', 'HYPE3', 'HGTX3', 'BBDC3', 'SANB11',\n",
       "       'KLBN11', 'VIVT4', 'FLRY3', 'CRFB3', 'BRAP4', 'EGIE3', 'ECOR3',\n",
       "       'TAEE11', 'EMBR3', 'SMLS3'],\n",
       "      dtype='object', name='ticker')"
      ]
     },
     "execution_count": 12,
     "metadata": {},
     "output_type": "execute_result"
    }
   ],
   "source": [
    "# Removendo o NaN, finalizando a limpeza dos dados\n",
    "B3_tickers.dropna(inplace=True)\n",
    "B3_tickers.index.unique()"
   ]
  },
  {
   "cell_type": "markdown",
   "metadata": {},
   "source": [
    "**O Pandas vai procurar cada uma dessas ações no site americano de finanças do Yahoo, portanto para podermos achar as ações é necessário colocar .SA no fim de cada ação (South America).**"
   ]
  },
  {
   "cell_type": "code",
   "execution_count": 13,
   "metadata": {},
   "outputs": [
    {
     "data": {
      "text/plain": [
       "['ITUB4.SA',\n",
       " 'BBAS3.SA',\n",
       " 'PETR4.SA',\n",
       " 'BBDC4.SA',\n",
       " 'B3SA3.SA',\n",
       " 'NTCO3.SA',\n",
       " 'MGLU3.SA',\n",
       " 'VALE3.SA',\n",
       " 'JBSS3.SA',\n",
       " 'ITSA4.SA',\n",
       " 'BRDT3.SA',\n",
       " 'VVAR3.SA',\n",
       " 'LREN3.SA',\n",
       " 'EQTL3.SA',\n",
       " 'SULA11.SA',\n",
       " 'ELET3.SA',\n",
       " 'ABEV3.SA',\n",
       " 'GNDI3.SA',\n",
       " 'RENT3.SA',\n",
       " 'BPAC11.SA',\n",
       " 'IRBR3.SA',\n",
       " 'SUZB3.SA',\n",
       " 'YDUQ3.SA',\n",
       " 'GGBR4.SA',\n",
       " 'RAIL3.SA',\n",
       " 'BRFS3.SA',\n",
       " 'QUAL3.SA',\n",
       " 'CYRE3.SA',\n",
       " 'GOLL4.SA',\n",
       " 'UGPA3.SA',\n",
       " 'MRFG3.SA',\n",
       " 'LAME4.SA',\n",
       " 'TOTS3.SA',\n",
       " 'MULT3.SA',\n",
       " 'BRKM5.SA',\n",
       " 'CSAN3.SA',\n",
       " 'CMIG4.SA',\n",
       " 'SBSP3.SA',\n",
       " 'CVCB3.SA',\n",
       " 'PETR3.SA',\n",
       " 'HAPV3.SA',\n",
       " 'USIM5.SA',\n",
       " 'BBSE3.SA',\n",
       " 'COGN3.SA',\n",
       " 'BRML3.SA',\n",
       " 'CSNA3.SA',\n",
       " 'WEGE3.SA',\n",
       " 'CCRO3.SA',\n",
       " 'ELET6.SA',\n",
       " 'CIEL3.SA',\n",
       " 'TIMP3.SA',\n",
       " 'AZUL4.SA',\n",
       " 'RADL3.SA',\n",
       " 'PCAR4.SA',\n",
       " 'GOAU4.SA',\n",
       " 'BTOW3.SA',\n",
       " 'MRVE3.SA',\n",
       " 'ENBR3.SA',\n",
       " 'IGTA3.SA',\n",
       " 'HYPE3.SA',\n",
       " 'HGTX3.SA',\n",
       " 'BBDC3.SA',\n",
       " 'SANB11.SA',\n",
       " 'KLBN11.SA',\n",
       " 'VIVT4.SA',\n",
       " 'FLRY3.SA',\n",
       " 'CRFB3.SA',\n",
       " 'BRAP4.SA',\n",
       " 'EGIE3.SA',\n",
       " 'ECOR3.SA',\n",
       " 'TAEE11.SA',\n",
       " 'EMBR3.SA',\n",
       " 'SMLS3.SA']"
      ]
     },
     "execution_count": 13,
     "metadata": {},
     "output_type": "execute_result"
    }
   ],
   "source": [
    "B3_tickers.index = B3_tickers.index.astype(str) + '.SA'\n",
    "list(B3_tickers.index)"
   ]
  },
  {
   "cell_type": "markdown",
   "metadata": {},
   "source": [
    "**Agora colocamos a coluna de ações de volta e tiramos as fileiras duplicatas**"
   ]
  },
  {
   "cell_type": "code",
   "execution_count": 14,
   "metadata": {},
   "outputs": [
    {
     "data": {
      "text/html": [
       "<div>\n",
       "<style scoped>\n",
       "    .dataframe tbody tr th:only-of-type {\n",
       "        vertical-align: middle;\n",
       "    }\n",
       "\n",
       "    .dataframe tbody tr th {\n",
       "        vertical-align: top;\n",
       "    }\n",
       "\n",
       "    .dataframe thead th {\n",
       "        text-align: right;\n",
       "    }\n",
       "</style>\n",
       "<table border=\"1\" class=\"dataframe\">\n",
       "  <thead>\n",
       "    <tr style=\"text-align: right;\">\n",
       "      <th></th>\n",
       "      <th>tickers</th>\n",
       "      <th>Company</th>\n",
       "    </tr>\n",
       "  </thead>\n",
       "  <tbody>\n",
       "    <tr>\n",
       "      <th>0</th>\n",
       "      <td>ITUB4.SA</td>\n",
       "      <td>ITAUUNIBANCO PN</td>\n",
       "    </tr>\n",
       "    <tr>\n",
       "      <th>1</th>\n",
       "      <td>BBAS3.SA</td>\n",
       "      <td>BRASIL ON</td>\n",
       "    </tr>\n",
       "    <tr>\n",
       "      <th>2</th>\n",
       "      <td>PETR4.SA</td>\n",
       "      <td>PETROBRAS PN</td>\n",
       "    </tr>\n",
       "    <tr>\n",
       "      <th>3</th>\n",
       "      <td>BBDC4.SA</td>\n",
       "      <td>BRADESCO PN</td>\n",
       "    </tr>\n",
       "    <tr>\n",
       "      <th>4</th>\n",
       "      <td>B3SA3.SA</td>\n",
       "      <td>B3</td>\n",
       "    </tr>\n",
       "  </tbody>\n",
       "</table>\n",
       "</div>"
      ],
      "text/plain": [
       "    tickers          Company\n",
       "0  ITUB4.SA  ITAUUNIBANCO PN\n",
       "1  BBAS3.SA        BRASIL ON\n",
       "2  PETR4.SA     PETROBRAS PN\n",
       "3  BBDC4.SA      BRADESCO PN\n",
       "4  B3SA3.SA               B3"
      ]
     },
     "execution_count": 14,
     "metadata": {},
     "output_type": "execute_result"
    }
   ],
   "source": [
    "#Putting the tickers column back\n",
    "B3_tickers.reset_index(level=0, inplace=True)\n",
    "B3_tickers.rename(columns={'index':'tickers'}, inplace=True)\n",
    "\n",
    "B3_tickers.head()"
   ]
  },
  {
   "cell_type": "code",
   "execution_count": 15,
   "metadata": {},
   "outputs": [
    {
     "data": {
      "text/plain": [
       "['ITUB4.SA',\n",
       " 'BBAS3.SA',\n",
       " 'PETR4.SA',\n",
       " 'BBDC4.SA',\n",
       " 'B3SA3.SA',\n",
       " 'NTCO3.SA',\n",
       " 'MGLU3.SA',\n",
       " 'VALE3.SA',\n",
       " 'JBSS3.SA',\n",
       " 'ITSA4.SA',\n",
       " 'BRDT3.SA',\n",
       " 'VVAR3.SA',\n",
       " 'LREN3.SA',\n",
       " 'EQTL3.SA',\n",
       " 'SULA11.SA',\n",
       " 'ELET3.SA',\n",
       " 'ABEV3.SA',\n",
       " 'GNDI3.SA',\n",
       " 'RENT3.SA',\n",
       " 'BPAC11.SA',\n",
       " 'IRBR3.SA',\n",
       " 'SUZB3.SA',\n",
       " 'YDUQ3.SA',\n",
       " 'GGBR4.SA',\n",
       " 'RAIL3.SA',\n",
       " 'BRFS3.SA',\n",
       " 'QUAL3.SA',\n",
       " 'CYRE3.SA',\n",
       " 'GOLL4.SA',\n",
       " 'UGPA3.SA',\n",
       " 'MRFG3.SA',\n",
       " 'LAME4.SA',\n",
       " 'TOTS3.SA',\n",
       " 'MULT3.SA',\n",
       " 'BRKM5.SA',\n",
       " 'CSAN3.SA',\n",
       " 'CMIG4.SA',\n",
       " 'SBSP3.SA',\n",
       " 'CVCB3.SA',\n",
       " 'PETR3.SA',\n",
       " 'HAPV3.SA',\n",
       " 'USIM5.SA',\n",
       " 'BBSE3.SA',\n",
       " 'COGN3.SA',\n",
       " 'BRML3.SA',\n",
       " 'CSNA3.SA',\n",
       " 'WEGE3.SA',\n",
       " 'CCRO3.SA',\n",
       " 'ELET6.SA',\n",
       " 'CIEL3.SA',\n",
       " 'TIMP3.SA',\n",
       " 'AZUL4.SA',\n",
       " 'RADL3.SA',\n",
       " 'PCAR4.SA',\n",
       " 'GOAU4.SA',\n",
       " 'BTOW3.SA',\n",
       " 'MRVE3.SA',\n",
       " 'ENBR3.SA',\n",
       " 'IGTA3.SA',\n",
       " 'HYPE3.SA',\n",
       " 'HGTX3.SA',\n",
       " 'BBDC3.SA',\n",
       " 'SANB11.SA',\n",
       " 'KLBN11.SA',\n",
       " 'VIVT4.SA',\n",
       " 'FLRY3.SA',\n",
       " 'CRFB3.SA',\n",
       " 'BRAP4.SA',\n",
       " 'EGIE3.SA',\n",
       " 'ECOR3.SA',\n",
       " 'TAEE11.SA',\n",
       " 'EMBR3.SA',\n",
       " 'SMLS3.SA']"
      ]
     },
     "execution_count": 15,
     "metadata": {},
     "output_type": "execute_result"
    }
   ],
   "source": [
    "#Dropping duplicates\n",
    "B3_tickers= B3_tickers.drop_duplicates(subset='tickers', keep=\"first\")\n",
    "list(B3_tickers['tickers'])"
   ]
  },
  {
   "cell_type": "markdown",
   "metadata": {},
   "source": [
    "**E salvamos esse arranjo em um arquivo CSV**"
   ]
  },
  {
   "cell_type": "code",
   "execution_count": 16,
   "metadata": {},
   "outputs": [
    {
     "data": {
      "text/html": [
       "<div>\n",
       "<style scoped>\n",
       "    .dataframe tbody tr th:only-of-type {\n",
       "        vertical-align: middle;\n",
       "    }\n",
       "\n",
       "    .dataframe tbody tr th {\n",
       "        vertical-align: top;\n",
       "    }\n",
       "\n",
       "    .dataframe thead th {\n",
       "        text-align: right;\n",
       "    }\n",
       "</style>\n",
       "<table border=\"1\" class=\"dataframe\">\n",
       "  <thead>\n",
       "    <tr style=\"text-align: right;\">\n",
       "      <th></th>\n",
       "      <th>tickers</th>\n",
       "      <th>Company</th>\n",
       "    </tr>\n",
       "  </thead>\n",
       "  <tbody>\n",
       "    <tr>\n",
       "      <th>0</th>\n",
       "      <td>ITUB4.SA</td>\n",
       "      <td>ITAUUNIBANCO PN</td>\n",
       "    </tr>\n",
       "    <tr>\n",
       "      <th>1</th>\n",
       "      <td>BBAS3.SA</td>\n",
       "      <td>BRASIL ON</td>\n",
       "    </tr>\n",
       "    <tr>\n",
       "      <th>2</th>\n",
       "      <td>PETR4.SA</td>\n",
       "      <td>PETROBRAS PN</td>\n",
       "    </tr>\n",
       "    <tr>\n",
       "      <th>3</th>\n",
       "      <td>BBDC4.SA</td>\n",
       "      <td>BRADESCO PN</td>\n",
       "    </tr>\n",
       "    <tr>\n",
       "      <th>4</th>\n",
       "      <td>B3SA3.SA</td>\n",
       "      <td>B3</td>\n",
       "    </tr>\n",
       "  </tbody>\n",
       "</table>\n",
       "</div>"
      ],
      "text/plain": [
       "    tickers          Company\n",
       "0  ITUB4.SA  ITAUUNIBANCO PN\n",
       "1  BBAS3.SA        BRASIL ON\n",
       "2  PETR4.SA     PETROBRAS PN\n",
       "3  BBDC4.SA      BRADESCO PN\n",
       "4  B3SA3.SA               B3"
      ]
     },
     "execution_count": 16,
     "metadata": {},
     "output_type": "execute_result"
    }
   ],
   "source": [
    "B3_tickers.to_csv('B3_tickers.csv')\n",
    "B3_tickers.head()"
   ]
  },
  {
   "cell_type": "markdown",
   "metadata": {},
   "source": [
    "**Agora que temos as ações corretamente, podemos colocar o Pandas para procurar pelas ações.**"
   ]
  },
  {
   "cell_type": "code",
   "execution_count": 17,
   "metadata": {},
   "outputs": [
    {
     "data": {
      "text/html": [
       "<div>\n",
       "<style scoped>\n",
       "    .dataframe tbody tr th:only-of-type {\n",
       "        vertical-align: middle;\n",
       "    }\n",
       "\n",
       "    .dataframe tbody tr th {\n",
       "        vertical-align: top;\n",
       "    }\n",
       "\n",
       "    .dataframe thead th {\n",
       "        text-align: right;\n",
       "    }\n",
       "</style>\n",
       "<table border=\"1\" class=\"dataframe\">\n",
       "  <thead>\n",
       "    <tr style=\"text-align: right;\">\n",
       "      <th></th>\n",
       "      <th>tickers</th>\n",
       "      <th>Company</th>\n",
       "    </tr>\n",
       "  </thead>\n",
       "  <tbody>\n",
       "    <tr>\n",
       "      <th>0</th>\n",
       "      <td>ITUB4.SA</td>\n",
       "      <td>ITAUUNIBANCO PN</td>\n",
       "    </tr>\n",
       "    <tr>\n",
       "      <th>1</th>\n",
       "      <td>BBAS3.SA</td>\n",
       "      <td>BRASIL ON</td>\n",
       "    </tr>\n",
       "    <tr>\n",
       "      <th>2</th>\n",
       "      <td>PETR4.SA</td>\n",
       "      <td>PETROBRAS PN</td>\n",
       "    </tr>\n",
       "    <tr>\n",
       "      <th>3</th>\n",
       "      <td>BBDC4.SA</td>\n",
       "      <td>BRADESCO PN</td>\n",
       "    </tr>\n",
       "    <tr>\n",
       "      <th>4</th>\n",
       "      <td>B3SA3.SA</td>\n",
       "      <td>B3</td>\n",
       "    </tr>\n",
       "  </tbody>\n",
       "</table>\n",
       "</div>"
      ],
      "text/plain": [
       "    tickers          Company\n",
       "0  ITUB4.SA  ITAUUNIBANCO PN\n",
       "1  BBAS3.SA        BRASIL ON\n",
       "2  PETR4.SA     PETROBRAS PN\n",
       "3  BBDC4.SA      BRADESCO PN\n",
       "4  B3SA3.SA               B3"
      ]
     },
     "execution_count": 17,
     "metadata": {},
     "output_type": "execute_result"
    }
   ],
   "source": [
    "B3_df = pd.read_csv('B3_tickers.csv', index_col=0)\n",
    "B3_df.head()\n"
   ]
  },
  {
   "cell_type": "code",
   "execution_count": 26,
   "metadata": {},
   "outputs": [
    {
     "name": "stdout",
     "output_type": "stream",
     "text": [
      "ITUB4.SA\n",
      "BBAS3.SA\n",
      "PETR4.SA\n",
      "BBDC4.SA\n",
      "B3SA3.SA\n",
      "NTCO3.SA\n",
      "MGLU3.SA\n",
      "VALE3.SA\n",
      "JBSS3.SA\n",
      "ITSA4.SA\n",
      "BRDT3.SA\n",
      "VVAR3.SA\n",
      "LREN3.SA\n",
      "EQTL3.SA\n",
      "SULA11.SA\n",
      "ELET3.SA\n",
      "ABEV3.SA\n",
      "GNDI3.SA\n",
      "RENT3.SA\n",
      "BPAC11.SA\n",
      "IRBR3.SA\n",
      "SUZB3.SA\n",
      "YDUQ3.SA\n",
      "GGBR4.SA\n",
      "RAIL3.SA\n",
      "BRFS3.SA\n",
      "QUAL3.SA\n",
      "CYRE3.SA\n",
      "GOLL4.SA\n",
      "UGPA3.SA\n",
      "MRFG3.SA\n",
      "LAME4.SA\n",
      "TOTS3.SA\n",
      "MULT3.SA\n",
      "BRKM5.SA\n",
      "CSAN3.SA\n",
      "CMIG4.SA\n",
      "SBSP3.SA\n",
      "CVCB3.SA\n",
      "PETR3.SA\n",
      "HAPV3.SA\n",
      "USIM5.SA\n",
      "BBSE3.SA\n",
      "COGN3.SA\n",
      "BRML3.SA\n",
      "CSNA3.SA\n",
      "WEGE3.SA\n",
      "CCRO3.SA\n",
      "ELET6.SA\n",
      "CIEL3.SA\n",
      "TIMP3.SA\n",
      "AZUL4.SA\n",
      "RADL3.SA\n",
      "PCAR4.SA\n",
      "GOAU4.SA\n",
      "BTOW3.SA\n",
      "MRVE3.SA\n",
      "ENBR3.SA\n",
      "IGTA3.SA\n",
      "HYPE3.SA\n",
      "HGTX3.SA\n",
      "BBDC3.SA\n",
      "SANB11.SA\n",
      "KLBN11.SA\n",
      "VIVT4.SA\n",
      "FLRY3.SA\n",
      "CRFB3.SA\n",
      "BRAP4.SA\n",
      "EGIE3.SA\n",
      "ECOR3.SA\n",
      "TAEE11.SA\n",
      "EMBR3.SA\n",
      "SMLS3.SA\n"
     ]
    }
   ],
   "source": [
    "# Função que vai iterar por cada ação e pegar os dados dela no site do Yahoo.\n",
    "# (fonte dos dados podem ser mudados passando para a função)\n",
    "# Após pegar os dados, um dataframe com os dados de cada ação é salvo em seu próprio arquivo CSV.\n",
    "\n",
    "def get_B3_from(source):\n",
    "    \n",
    "    # Cria diretório para as ações caso não exista\n",
    "    if not os.path.exists('B3_stock_dfs'):\n",
    "        os.makedirs('B3_stock_dfs')\n",
    "    \n",
    "    # Datas onde começa e termina a coleta de dados\n",
    "    start = dt.datetime(2010,1,1)\n",
    "    end = dt.datetime(2020,1,10)\n",
    "    \n",
    "    # Iterando por cada ação\n",
    "    for ticker in B3_df['tickers']:          \n",
    "        print(ticker)\n",
    "        # Lendo os dados para a ação\n",
    "        df=web.DataReader(ticker, source, start, end)   \n",
    "        \n",
    "        #Algumas informações a mais que podemos colocar\n",
    "        df['HL_pct'] = ((df['High'] - df['Low']) / df['Low'])*100 \n",
    "        df['OC_pct'] = ((df['Close'] - df['Open']) / df['Open'])*100 \n",
    "        \n",
    "        # Salvando os dados em arquivo csv\n",
    "        df.to_csv('B3_stock_dfs/{}.csv'.format(ticker))\n",
    "\n",
    "# Chamando a função\n",
    "get_B3_from('yahoo')"
   ]
  },
  {
   "cell_type": "markdown",
   "metadata": {},
   "source": [
    "**Agora podemos tirar os dados e fazer o que desejarmos.**"
   ]
  },
  {
   "cell_type": "code",
   "execution_count": 22,
   "metadata": {},
   "outputs": [
    {
     "data": {
      "text/plain": [
       "<matplotlib.axes._subplots.AxesSubplot at 0x1e0e3fb2e10>"
      ]
     },
     "execution_count": 22,
     "metadata": {},
     "output_type": "execute_result"
    },
    {
     "data": {
      "image/png": "[encoded data removed]",
      "text/plain": [
       "<Figure size 1080x504 with 1 Axes>"
      ]
     },
     "metadata": {
      "needs_background": "light"
     },
     "output_type": "display_data"
    }
   ],
   "source": [
    "fig, ax = plt.subplots(figsize=(15,7))\n",
    "ticker = 'BBDC4.SA'\n",
    "df = pd.read_csv(\"B3_stock_dfs/{}.csv\".format(ticker))\n",
    "df.set_index('Date', inplace=True)\n",
    "df['High'].plot(ax=ax)"
   ]
  }
 ],
 "metadata": {
  "kernelspec": {
   "display_name": "Python 3",
   "language": "python",
   "name": "python3"
  },
  "language_info": {
   "codemirror_mode": {
    "name": "ipython",
    "version": 3
   },
   "file_extension": ".py",
   "mimetype": "text/x-python",
   "name": "python",
   "nbconvert_exporter": "python",
   "pygments_lexer": "ipython3",
   "version": "3.7.4"
  }
 },
 "nbformat": 4,
 "nbformat_minor": 2
}
